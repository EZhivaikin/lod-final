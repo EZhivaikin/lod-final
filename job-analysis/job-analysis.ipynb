{
 "cells": [
  {
   "cell_type": "code",
   "execution_count": 1,
   "metadata": {},
   "outputs": [
    {
     "name": "stderr",
     "output_type": "stream",
     "text": [
      "[nltk_data] Downloading package stopwords to\n",
      "[nltk_data]     /Users/evgenii.zhivaikin/nltk_data...\n",
      "[nltk_data]   Package stopwords is already up-to-date!\n"
     ]
    },
    {
     "data": {
      "text/plain": [
       "True"
      ]
     },
     "execution_count": 1,
     "metadata": {},
     "output_type": "execute_result"
    }
   ],
   "source": [
    "import pprint\n",
    "import pandas as pd\n",
    "import asyncio\n",
    "import aiohttp\n",
    "import nest_asyncio\n",
    "nest_asyncio.apply()\n",
    "import time\n",
    "import json\n",
    "import pickle\n",
    "import re\n",
    "from stop_words import get_stop_words\n",
    "import nltk\n",
    "from nltk.stem.snowball import RussianStemmer\n",
    "from nltk.corpus import stopwords\n",
    "from pymystem3 import Mystem\n",
    "from string import punctuation\n",
    "nltk.download(\"stopwords\")"
   ]
  },
  {
   "cell_type": "code",
   "execution_count": 2,
   "metadata": {},
   "outputs": [],
   "source": [
    "async def async_request(url, params=None):\n",
    "    async with aiohttp.request(method='GET', url=url, params=params) as response:\n",
    "        result = await response.json()\n",
    "    return result"
   ]
  },
  {
   "cell_type": "code",
   "execution_count": 5,
   "metadata": {},
   "outputs": [],
   "source": [
    "async def get_gazbank_it_vacancies():\n",
    "    # АО Газпромбанк, Газпромбанк-Инвест, Газпромбанк-Инвест Девелопмент Северо-Запад,\n",
    "    # Газпромбанк Лизинг, Газпромбанк - Управление Активами, Электронная торговая площадка Газпромбанка\n",
    "    vacancies_ids = []\n",
    "    vacancies = []\n",
    "    employers_ids = [169875, 3388, 1111946, 93294, 1846784, 214499]\n",
    "    pages = [{\n",
    "        'employer_id': employers_ids, \n",
    "        'per_page': 100, \n",
    "        'page': i, \n",
    "        'specialization': '1',\n",
    "    } for i in range(2)]\n",
    "    futures_pages = [async_request(\"https://api.hh.ru/vacancies\", params) for params in pages]\n",
    "    for future in asyncio.as_completed(futures_pages):\n",
    "        vacancies_ids_batch = await future\n",
    "        for vacancy in vacancies_ids_batch['items']:\n",
    "            vacancies_ids.append(vacancy['id'])\n",
    "    \n",
    "    for i in range(0, 171, 10):\n",
    "        future_vacancies = [async_request(f\"https://api.hh.ru/vacancies/{vacancy_id}\") for vacancy_id in vacancies_ids[i:i+10]]\n",
    "        for future in asyncio.as_completed(future_vacancies): \n",
    "            vacancy = await future\n",
    "            vacancies.append(vacancy)\n",
    "        time.sleep(1)\n",
    "    return vacancies\n",
    "    \n",
    "async def get_gazbank_it_companies():\n",
    "    params = {'text': 'газпромбанк'}\n",
    "    r = await async_request(\"https://api.hh.ru/employers\", params)\n",
    "    return r"
   ]
  },
  {
   "cell_type": "code",
   "execution_count": 6,
   "metadata": {},
   "outputs": [],
   "source": [
    "ioloop = asyncio.get_event_loop()\n",
    "companies = ioloop.run_until_complete(get_gazbank_it_companies())\n",
    "#companies"
   ]
  },
  {
   "cell_type": "code",
   "execution_count": 7,
   "metadata": {},
   "outputs": [],
   "source": [
    "ioloop = asyncio.get_event_loop()\n",
    "vacancies = ioloop.run_until_complete(get_gazbank_it_vacancies())\n",
    "#vacancies"
   ]
  },
  {
   "cell_type": "code",
   "execution_count": 8,
   "metadata": {},
   "outputs": [],
   "source": [
    "len(list(filter(lambda x: x.get('errors') is not None, vacancies)))"
   ]
  },
  {
   "cell_type": "code",
   "execution_count": null,
   "metadata": {},
   "outputs": [],
   "source": []
  },
  {
   "cell_type": "code",
   "execution_count": 3,
   "metadata": {},
   "outputs": [],
   "source": [
    "mystem = Mystem()\n",
    "\n",
    "def process_text(text):\n",
    "    docs = []\n",
    "    stop_words = stopwords.words(\"russian\")\n",
    "    doc = re.sub('<[^>]*>', '', text.lower())\n",
    "    doc = re.sub('&quot;', '', doc)\n",
    "    doc = re.sub(r'[^a-zа-я]+', ' ', doc, re.UNICODE)\n",
    "\n",
    "    doc = doc.strip()\n",
    "    doc = doc.replace('\\u200b', ' ')\n",
    "    doc = doc.replace('•', ' ')\n",
    "    doc = doc.replace('-', ' ')\n",
    "    doc = doc.replace('.', ' ')\n",
    "    doc = doc.replace(',', ' ')\n",
    "    doc = doc.replace('(', ' ')\n",
    "    doc = doc.replace(')', ' ')\n",
    "    doc = doc.replace('\\n', ' ')\n",
    "    words = mystem.lemmatize(doc.lower())\n",
    "    #words = re.split(r'\\s{1,} |\\ |/', doc.strip())\n",
    "    words = [word for word in words if word not in stop_words]\n",
    "    #words = [stemmer.stem(word) for word in words]\n",
    "    return ' '.join(words)"
   ]
  },
  {
   "cell_type": "code",
   "execution_count": 4,
   "metadata": {},
   "outputs": [
    {
     "ename": "NameError",
     "evalue": "name 'vacancies' is not defined",
     "output_type": "error",
     "traceback": [
      "\u001b[0;31m---------------------------------------------------------------------------\u001b[0m",
      "\u001b[0;31mNameError\u001b[0m                                 Traceback (most recent call last)",
      "\u001b[0;32m<ipython-input-4-4dc99b930ffe>\u001b[0m in \u001b[0;36m<module>\u001b[0;34m\u001b[0m\n\u001b[1;32m      1\u001b[0m \u001b[0mdocs\u001b[0m \u001b[0;34m=\u001b[0m \u001b[0;34m[\u001b[0m\u001b[0;34m]\u001b[0m\u001b[0;34m\u001b[0m\u001b[0;34m\u001b[0m\u001b[0m\n\u001b[0;32m----> 2\u001b[0;31m \u001b[0;32mfor\u001b[0m \u001b[0mvacancy\u001b[0m \u001b[0;32min\u001b[0m \u001b[0mvacancies\u001b[0m\u001b[0;34m:\u001b[0m\u001b[0;34m\u001b[0m\u001b[0;34m\u001b[0m\u001b[0m\n\u001b[0m\u001b[1;32m      3\u001b[0m     \u001b[0mskills_str\u001b[0m \u001b[0;34m=\u001b[0m \u001b[0;34m' '\u001b[0m\u001b[0;34m.\u001b[0m\u001b[0mjoin\u001b[0m\u001b[0;34m(\u001b[0m\u001b[0mskill\u001b[0m\u001b[0;34m[\u001b[0m\u001b[0;34m'name'\u001b[0m\u001b[0;34m]\u001b[0m \u001b[0;32mfor\u001b[0m \u001b[0mskill\u001b[0m \u001b[0;32min\u001b[0m \u001b[0mvacancy\u001b[0m\u001b[0;34m[\u001b[0m\u001b[0;34m'key_skills'\u001b[0m\u001b[0;34m]\u001b[0m\u001b[0;34m)\u001b[0m\u001b[0;34m\u001b[0m\u001b[0;34m\u001b[0m\u001b[0m\n\u001b[1;32m      4\u001b[0m     \u001b[0mdescription\u001b[0m \u001b[0;34m=\u001b[0m \u001b[0mvacancy\u001b[0m\u001b[0;34m[\u001b[0m\u001b[0;34m'description'\u001b[0m\u001b[0;34m]\u001b[0m\u001b[0;34m\u001b[0m\u001b[0;34m\u001b[0m\u001b[0m\n\u001b[1;32m      5\u001b[0m     \u001b[0mtext\u001b[0m \u001b[0;34m=\u001b[0m \u001b[0;34mf\"{description} {skills_str}\"\u001b[0m\u001b[0;34m\u001b[0m\u001b[0;34m\u001b[0m\u001b[0m\n",
      "\u001b[0;31mNameError\u001b[0m: name 'vacancies' is not defined"
     ]
    }
   ],
   "source": [
    "docs = []\n",
    "for vacancy in vacancies:\n",
    "    skills_str = ' '.join(skill['name'] for skill in vacancy['key_skills'])\n",
    "    description = vacancy['description']\n",
    "    text = f\"{description} {skills_str}\"\n",
    "    docs.append(process_text(text))"
   ]
  },
  {
   "cell_type": "code",
   "execution_count": 27,
   "metadata": {},
   "outputs": [],
   "source": [
    "import pickle \n",
    "\n",
    "with open('cv', 'wb') as file:\n",
    "    pickle.dump(vectorizer, file)\n",
    "\n",
    "with open('idf', 'wb') as file:\n",
    "    pickle.dump(transformer, file)\n",
    "    "
   ]
  },
  {
   "cell_type": "code",
   "execution_count": 32,
   "metadata": {},
   "outputs": [],
   "source": [
    "resume_example = \"\"\"\n",
    "Увлекаюсь всем, что касается IT. Благодаря постоянной работе в команде и практически постоянному участию в различных конкурсах на протяжении уже более трёх лет приобрел коммуникационные, лидерские и организационные навыки. В любой работе часто проявляю заинтересованность, оптимизм, умение распределять задачи, и беру на себя ответственность за результат. Прошел \"Зимнюю Школу\" от УрФУ, где развивал свои soft-skills.\n",
    "Во внерабочее время занимаюсь различными коммерческими и некоммерческими проектами на языке python (FastAPI, Django, Flask и пр.). Немного занимаюсь DevOps и ML.\n",
    "Python\n",
    "SQL\n",
    "RabbitMQ\n",
    "Redis\n",
    "Django Framework\n",
    "Flask\n",
    "Node.js\n",
    "Celery\n",
    "Design Patterns\n",
    "Docker\n",
    "DevOps\n",
    "CI/CD\n",
    "\"\"\""
   ]
  },
  {
   "cell_type": "code",
   "execution_count": 33,
   "metadata": {},
   "outputs": [],
   "source": [
    "\n",
    "# with open('cv', 'rb') as file:\n",
    "#     vectorizer = pickle.load(file)\n",
    "\n",
    "# with open('idf', 'rb') as file:\n",
    "#     transformer = pickle.load(file)\n",
    "\n",
    "vacancies = json.load(open(\"vacancies.json\" ))"
   ]
  },
  {
   "cell_type": "code",
   "execution_count": 34,
   "metadata": {},
   "outputs": [],
   "source": [
    "docs = []\n",
    "for vacancy in vacancies:\n",
    "    skills_str = ' '.join(skill['name'] for skill in vacancy['key_skills'])\n",
    "    description = vacancy['description']\n",
    "    title = vacancy['name']\n",
    "    text = f\"{description} {skills_str} {title}\"\n",
    "    docs.append(process_text(text))\n",
    "\n",
    "# X = vectorizer.fit_transform(docs)\n",
    "# X = transformer.fit_transform(X)"
   ]
  },
  {
   "cell_type": "code",
   "execution_count": 61,
   "metadata": {},
   "outputs": [
    {
     "data": {
      "image/png": "[encoded data removed]",
      "text/plain": [
       "<Figure size 432x288 with 1 Axes>"
      ]
     },
     "metadata": {
      "needs_background": "light"
     },
     "output_type": "display_data"
    }
   ],
   "source": [
    "%matplotlib inline\n",
    "from sklearn.feature_extraction.text import CountVectorizer\n",
    "from sklearn.feature_extraction.text import TfidfTransformer\n",
    "import pandas as pd\n",
    "import matplotlib.pyplot as plt\n",
    "\n",
    "vectorizer = CountVectorizer()\n",
    "transformer = TfidfTransformer()\n",
    "X = vectorizer.fit_transform(docs)\n",
    "X = transformer.fit_transform(X)\n",
    "\n",
    "idf_values = pd.DataFrame(transformer.idf_, index=vectorizer.get_feature_names(),columns=[\"idf_weights\"])\n",
    "idf_values.sort_values('idf_weights')\n",
    "\n",
    "plt.bar(list(idf_values.index)[::150], list(idf_values['idf_weights'])[::150])\n",
    "plt.xticks(rotation=70)\n",
    "\n",
    "plt.show()"
   ]
  },
  {
   "cell_type": "code",
   "execution_count": null,
   "metadata": {},
   "outputs": [],
   "source": []
  },
  {
   "cell_type": "code",
   "execution_count": 36,
   "metadata": {},
   "outputs": [
    {
     "data": {
      "text/plain": [
       "<1x2805 sparse matrix of type '<class 'numpy.int64'>'\n",
       "\twith 49 stored elements in Compressed Sparse Row format>"
      ]
     },
     "execution_count": 36,
     "metadata": {},
     "output_type": "execute_result"
    }
   ],
   "source": [
    "resume_doc = process_text(resume_example)\n",
    "resume_vals = vectorizer.transform([resume_doc])\n",
    "resume_idfs = transformer.transform(resume_vals)\n",
    "resume_vals"
   ]
  },
  {
   "cell_type": "code",
   "execution_count": 37,
   "metadata": {},
   "outputs": [
    {
     "data": {
      "text/plain": [
       "array([[0., 0., 0., ..., 0., 0., 0.],\n",
       "       [0., 0., 0., ..., 0., 0., 0.],\n",
       "       [0., 0., 0., ..., 0., 0., 0.],\n",
       "       ...,\n",
       "       [0., 0., 0., ..., 0., 0., 0.],\n",
       "       [0., 0., 0., ..., 0., 0., 0.],\n",
       "       [0., 0., 0., ..., 0., 0., 0.]])"
      ]
     },
     "execution_count": 37,
     "metadata": {},
     "output_type": "execute_result"
    }
   ],
   "source": [
    "X.toarray()"
   ]
  },
  {
   "cell_type": "code",
   "execution_count": 38,
   "metadata": {},
   "outputs": [],
   "source": [
    "from sklearn.metrics.pairwise import cosine_similarity\n",
    "cosine_similarities = cosine_similarity(resume_idfs, X).flatten()"
   ]
  },
  {
   "cell_type": "code",
   "execution_count": 39,
   "metadata": {},
   "outputs": [
    {
     "data": {
      "text/html": [
       "<div>\n",
       "<style scoped>\n",
       "    .dataframe tbody tr th:only-of-type {\n",
       "        vertical-align: middle;\n",
       "    }\n",
       "\n",
       "    .dataframe tbody tr th {\n",
       "        vertical-align: top;\n",
       "    }\n",
       "\n",
       "    .dataframe thead th {\n",
       "        text-align: right;\n",
       "    }\n",
       "</style>\n",
       "<table border=\"1\" class=\"dataframe\">\n",
       "  <thead>\n",
       "    <tr style=\"text-align: right;\">\n",
       "      <th></th>\n",
       "      <th>similarity</th>\n",
       "    </tr>\n",
       "  </thead>\n",
       "  <tbody>\n",
       "    <tr>\n",
       "      <th>39264249</th>\n",
       "      <td>0.004056</td>\n",
       "    </tr>\n",
       "    <tr>\n",
       "      <th>40586526</th>\n",
       "      <td>0.004404</td>\n",
       "    </tr>\n",
       "    <tr>\n",
       "      <th>39846285</th>\n",
       "      <td>0.006476</td>\n",
       "    </tr>\n",
       "    <tr>\n",
       "      <th>40493330</th>\n",
       "      <td>0.006495</td>\n",
       "    </tr>\n",
       "    <tr>\n",
       "      <th>40545443</th>\n",
       "      <td>0.006766</td>\n",
       "    </tr>\n",
       "    <tr>\n",
       "      <th>...</th>\n",
       "      <td>...</td>\n",
       "    </tr>\n",
       "    <tr>\n",
       "      <th>38874356</th>\n",
       "      <td>0.130612</td>\n",
       "    </tr>\n",
       "    <tr>\n",
       "      <th>36455463</th>\n",
       "      <td>0.131017</td>\n",
       "    </tr>\n",
       "    <tr>\n",
       "      <th>36567025</th>\n",
       "      <td>0.156416</td>\n",
       "    </tr>\n",
       "    <tr>\n",
       "      <th>39775853</th>\n",
       "      <td>0.158898</td>\n",
       "    </tr>\n",
       "    <tr>\n",
       "      <th>38845851</th>\n",
       "      <td>0.222894</td>\n",
       "    </tr>\n",
       "  </tbody>\n",
       "</table>\n",
       "<p>171 rows × 1 columns</p>\n",
       "</div>"
      ],
      "text/plain": [
       "          similarity\n",
       "39264249    0.004056\n",
       "40586526    0.004404\n",
       "39846285    0.006476\n",
       "40493330    0.006495\n",
       "40545443    0.006766\n",
       "...              ...\n",
       "38874356    0.130612\n",
       "36455463    0.131017\n",
       "36567025    0.156416\n",
       "39775853    0.158898\n",
       "38845851    0.222894\n",
       "\n",
       "[171 rows x 1 columns]"
      ]
     },
     "execution_count": 39,
     "metadata": {},
     "output_type": "execute_result"
    }
   ],
   "source": [
    "vacancies_ids = [vacancy['id'] for vacancy in vacancies]\n",
    "resume_similarity_df = pd.DataFrame(cosine_similarities, index=vacancies_ids, columns=[\"similarity\"])\n",
    "resume_similarity_df.sort_values('similarity')"
   ]
  },
  {
   "cell_type": "code",
   "execution_count": 43,
   "metadata": {},
   "outputs": [
    {
     "data": {
      "text/plain": [
       "[('37622366', 0.1620218139590954),\n",
       " ('38845851', 0.14704278374620117),\n",
       " ('39775853', 0.14129821425042532),\n",
       " ('38665526', 0.14073149148133382),\n",
       " ('38874356', 0.12837255189559668)]"
      ]
     },
     "execution_count": 43,
     "metadata": {},
     "output_type": "execute_result"
    }
   ],
   "source": [
    "sims = list(zip(vacancies_ids, cosine_similarities))\n",
    "sims.sort(key=lambda x: x[1], reverse=True)\n",
    "sims[:5]"
   ]
  },
  {
   "cell_type": "code",
   "execution_count": null,
   "metadata": {},
   "outputs": [],
   "source": []
  }
 ],
 "metadata": {
  "kernelspec": {
   "display_name": "Python 3",
   "language": "python",
   "name": "python3"
  },
  "language_info": {
   "codemirror_mode": {
    "name": "ipython",
    "version": 3
   },
   "file_extension": ".py",
   "mimetype": "text/x-python",
   "name": "python",
   "nbconvert_exporter": "python",
   "pygments_lexer": "ipython3",
   "version": "3.7.9"
  }
 },
 "nbformat": 4,
 "nbformat_minor": 4
}
